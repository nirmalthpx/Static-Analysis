{
 "cells": [
  {
   "cell_type": "markdown",
   "id": "ffc96263-4277-44f5-baf1-df9492ded746",
   "metadata": {},
   "source": [
    "* Logical Steps to find all possible function call sequences triggered by a user event in Android apps *\n",
    "\n",
    "Step 1. \n",
    "Parsing the Android Manifest File: Identifying all activities and their entry points.\n",
    "\n",
    "Step 2. \n",
    "Parsing the UI Layout Files: Extracting all UI elements and their associated event handlers.\n",
    "\n",
    "Step 3. \n",
    "Parsing the Java Source Code Files: Identifying all the method declaration and the subsequent method calls within (** Identifying Loops and Branches too, this time)\n",
    "                                       \n",
    "Step 4. \n",
    "Building a Call Graph: Building the Call Sequences analyzing the above set of results from (Step 1) manifest, (Step 2) layout and (Step 3) source code.\n",
    "\n",
    "Pre-requisites:\n",
    "1. Need py4j module which allows this python script to interact with Java Program via temp. server having JVM Machine\n",
    "\n",
    "Improvements:\n",
    "1. Handling Nested directories\n",
    "\n",
    "2. Handling Multiple Activities in a Single File:\n",
    "\n",
    "3. Error Handling: If any file parsing fails (due to malformed XML, incorrect paths, or other issues), the code will throw an exception and stop executing.\n",
    "\n",
    "4. Handling Multiple Layout Files with the Same UI ID:\n",
    "\n",
    "5. Finding All Method Declarations: The code now captures direct method invocations within the current method and also captures chained or deeply nested method calls.\n",
    "\n",
    "6. The code now handles the branching and loops satement as well."
   ]
  },
  {
   "cell_type": "markdown",
   "id": "765bdeb9-827e-4762-ba66-bd9e12d18298",
   "metadata": {},
   "source": [
    "Pre-requisite for the script"
   ]
  },
  {
   "cell_type": "code",
   "execution_count": 66,
   "id": "540f069b-ec63-4060-9b44-c0071165415e",
   "metadata": {},
   "outputs": [],
   "source": [
    "import os                            # Reading/writing files (We will be reading Manifest File, Layout file and Java File\n",
    "import xml.etree.ElementTree as ET   # Parsing XML file as we will be dealing with manifest file and layout file\n",
    "from pprint import pprint            # Prettifying the output instead of standard print() statment\n",
    "from py4j.java_gateway import JavaGateway # This library allows Python script to interact iwth Java Programs\n",
    "\n",
    "# Path of the directory. Here, I have used three main paths: Manifest Directory (XML File), Layouts Directory (XML files) and Source Directory (.Java files)\n",
    "manifest_directory = \"../Documents/Final/app/src/main/\"\n",
    "layouts_directory = \"../Documents/Final/app/src/main/res/layout/\"\n",
    "source_directory = \"../Documents/Final/app/src/main/java/com/example/afinal/\"\n",
    "\n",
    "# this is my custom print statment to output the result in readable way\n",
    "def var_dump(name_of_variable, output):\n",
    "    print(f\"[{name_of_variable}]\")\n",
    "    print(type(output))\n",
    "    pprint(output)\n",
    "    print(\"======\")\n",
    "\n",
    "# Recursively gather all files with a specific extension\n",
    "# @param: directory: Path of the directory\n",
    "# @param: extension: Which file type need to be filtered from the given directory\n",
    "def gather_files(directory, extension):\n",
    "    files = []\n",
    "\n",
    "    # root: The current directory path being explored\n",
    "    # filenames: list of filenames in current directory\n",
    "    # _ : we do not want 2nd item from os.walk (a tuple), so marked it as _\n",
    "    for root, _, filenames in os.walk(directory):            #iterates over directories and sub-directories, r\n",
    "        for filename in filenames:\n",
    "            if filename.endswith(extension):                 # if mathches the given filename extension\n",
    "                files.append(os.path.join(root, filename))   # full path to the file is constructed and is added to files[]\n",
    "    return files\n",
    "    "
   ]
  },
  {
   "cell_type": "markdown",
   "id": "a75d334e-83b7-4737-9dc1-d3bdc8926d07",
   "metadata": {},
   "source": [
    "Step 1: Parsing the Android manifest File:"
   ]
  },
  {
   "cell_type": "code",
   "execution_count": 68,
   "id": "e8de9c14-db7e-4290-bf9d-c0115454a977",
   "metadata": {},
   "outputs": [
    {
     "name": "stdout",
     "output_type": "stream",
     "text": [
      "[activities]\n",
      "<class 'list'>\n",
      "['.SettingsActivity', '.MainActivity']\n",
      "======\n"
     ]
    }
   ],
   "source": [
    "\n",
    "#Parses the Android Manifest File to identify all 'activites'      \n",
    "def parse_manifest_directory(manifest_directory):\n",
    "    \n",
    "    # Searches only manifest files (xml) and stores manifest_files\n",
    "    manifest_files = gather_files(manifest_directory, '.xml')\n",
    "    activities = [] # Empty list to hold the name of Activites found in Manifest file\n",
    "\n",
    "    for manifest_file in manifest_files:     \n",
    "        tree = ET.parse(manifest_file)                  # Parse the XML files and return ElementTree object\n",
    "        root = tree.getroot()                           # Get the root elment of the prased SML tree. <manifest> element is generally the root element\n",
    "        for activity in root.findall(\".//activity\"):    # finall() looks for the 'activity' elements in the tree. We are looking for activity\n",
    "            activity_name = activity.get(\"{http://schemas.android.com/apk/res/android}name\")  # Get the name of the activity (namespace is used here for retrieving name) \n",
    "            activities.append(activity_name)\n",
    "    return activities\n",
    "\n",
    "activities = parse_manifest_directory(manifest_directory)\n",
    "# I am using my custom function to prettify (more readable) the output instead of plain print() \n",
    "var_dump(\"activities\", activities)\n"
   ]
  },
  {
   "cell_type": "markdown",
   "id": "936b4b5e-dc8b-49d7-b7ed-9b1960cbcb2e",
   "metadata": {},
   "source": [
    "Step 2: Parsing the UI Layout Files and extracts information about any 'onClick' evetns. Nore: For this test purpose, I have only used 'onClick' UI event, it can be extended to handle other events as well. "
   ]
  },
  {
   "cell_type": "code",
   "execution_count": 70,
   "id": "501417f0-a215-429e-a675-b50082224d3c",
   "metadata": {},
   "outputs": [
    {
     "name": "stdout",
     "output_type": "stream",
     "text": [
      "[handlers]\n",
      "<class 'dict'>\n",
      "{'@+id/btnCountLoop': 'addNumbers',\n",
      " '@+id/btnDisplayText': 'handleText',\n",
      " '@+id/btnDoWhile': 'loopDoStatement',\n",
      " '@+id/btnForEach': 'forEachStatement',\n",
      " '@+id/btnIfStatement': 'displayGreater',\n",
      " '@+id/btnSettings': 'launchSettings',\n",
      " '@+id/btnSwitch': 'switchStatment',\n",
      " '@+id/button': 'goBack'}\n",
      "======\n"
     ]
    }
   ],
   "source": [
    "\n",
    "# Parse layout files to get handlers\n",
    "def parse_layouts_directory(layouts_directory):\n",
    "    layout_files = gather_files(layouts_directory, '.xml')\n",
    "    handlers = {}\n",
    "\n",
    "    for layout_file in layout_files:\n",
    "        tree = ET.parse(layout_file)\n",
    "        root = tree.getroot()\n",
    "        for element in root.iter():\n",
    "            onClick = element.get(\"{http://schemas.android.com/apk/res/android}onClick\") #retrieves the value of the attribute android:onClick attribute\n",
    "            if onClick:\n",
    "                element_id = element.get(\"{http://schemas.android.com/apk/res/android}id\", 'unknown') # retrieve the value of the attribute ID of android:onClick attribute, if not assign it to 'unknown'\n",
    "                handlers[element_id] = onClick # add the id of attribute and value of onClick in Key-Value pair in dictionary\n",
    "    return handlers\n",
    "\n",
    "handlers = parse_layouts_directory(layouts_directory)\n",
    "var_dump(\"handlers\", handlers)\n"
   ]
  },
  {
   "cell_type": "markdown",
   "id": "f93ea96b-7c8d-4a17-a3c1-284acce13d74",
   "metadata": {},
   "source": [
    "Step 3: Parsing the Java Source Code Files"
   ]
  },
  {
   "cell_type": "code",
   "execution_count": 72,
   "id": "d2ea99bf-6b73-4f45-89f8-31f584298957",
   "metadata": {},
   "outputs": [
    {
     "name": "stdout",
     "output_type": "stream",
     "text": [
      "[sequence]\n",
      "<class 'dict'>\n",
      "{'@+id/btnCountLoop': {'addNumbers': ['findViewById (METHOD_CALL)',\n",
      "                                      'setText (METHOD_CALL)',\n",
      "                                      'valueOf (METHOD_CALL)',\n",
      "                                      'setText (FOR_STMT)',\n",
      "                                      'valueOf (FOR_STMT)']},\n",
      " '@+id/btnDisplayText': {'handleText': ['findViewById (METHOD_CALL)',\n",
      "                                        'toString (METHOD_CALL)',\n",
      "                                        'getText (METHOD_CALL)',\n",
      "                                        'setText (METHOD_CALL)',\n",
      "                                        'findViewById (METHOD_CALL)',\n",
      "                                        'show (METHOD_CALL)',\n",
      "                                        'makeText (METHOD_CALL)']},\n",
      " '@+id/btnDoWhile': {'loopDoStatement': ['findViewById (METHOD_CALL)',\n",
      "                                         'setText (METHOD_CALL)',\n",
      "                                         'setText (DO_STMT)']},\n",
      " '@+id/btnForEach': {'forEachStatement': ['findViewById (METHOD_CALL)',\n",
      "                                          'setText (METHOD_CALL)',\n",
      "                                          'setText (FOREACH_STMT)']},\n",
      " '@+id/btnIfStatement': {'displayGreater': ['findViewById (METHOD_CALL)',\n",
      "                                            'setText (METHOD_CALL)',\n",
      "                                            'setText (METHOD_CALL)',\n",
      "                                            'setText (IF_STMT)',\n",
      "                                            'setText (IF_STMT)']},\n",
      " '@+id/btnSettings': {'launchSettings': ['toString (METHOD_CALL)',\n",
      "                                         'getText (METHOD_CALL)',\n",
      "                                         'findViewById (METHOD_CALL)',\n",
      "                                         'putExtra (METHOD_CALL)',\n",
      "                                         'startActivity (METHOD_CALL)']},\n",
      " '@+id/btnSwitch': {'switchStatment': ['findViewById (METHOD_CALL)',\n",
      "                                       'setText (METHOD_CALL)',\n",
      "                                       'setText (METHOD_CALL)',\n",
      "                                       'setText (METHOD_CALL)',\n",
      "                                       'setText (METHOD_CALL)',\n",
      "                                       'setText (SWITCH_STMT)',\n",
      "                                       'setText (SWITCH_STMT)',\n",
      "                                       'setText (SWITCH_STMT)',\n",
      "                                       'setText (SWITCH_STMT)']},\n",
      " '@+id/button': {'goBack': ['startActivity (METHOD_CALL)']}}\n",
      "======\n"
     ]
    }
   ],
   "source": [
    "# Start the Java gateway: Connection to a JVM\n",
    "gateway = JavaGateway()\n",
    "\n",
    "# Parse Java source files\n",
    "def parse_java_source_code_directory(source_directory):\n",
    "\n",
    "    source_files = gather_files(source_directory, '.java') #get the .Java files from the directory\n",
    "    call_graph = {} #empty dictionary to later hold the call graph / sequence of event\n",
    "\n",
    "    java_parser = gateway.entry_point #retrieves the entry point to the Java code from the Java gateway\n",
    "\n",
    "    for source_file in source_files: #Parsing each java files found from the given directory\n",
    "        try:\n",
    "            method_calls_map = java_parser.parseJavaFile(source_file)  # this calls the method \"parseJavaFile\" in JavaParserService.java and should match!!\n",
    "            \n",
    "            # Following line is for testing purpose: To check what JavaParser has dumped to this python program\n",
    "            # var_dump(\"method_calls_map\", method_calls_map)\n",
    "\n",
    "            call_graph[source_file] = {}\n",
    "\n",
    "            # Reference only: \n",
    "            # key   : onCreate (String) \n",
    "            # value : Java object (py4j.java_collections.JavaList) [[[ Understanding this JavaObject was the most difficult part for me, always messed up when producing outpu ]]]\n",
    "            for key, value in method_calls_map.items():\n",
    "  \n",
    "                call_graph[source_file][key] = [str(call) for call in value]  # Convert each MethodCall object to string using its toString method [This was tough solution for me]\n",
    "                \n",
    "        except Exception as e:\n",
    "            print(f\"Error parsing {source_file}: {e}\")\n",
    "\n",
    "    return call_graph\n",
    "\n",
    "call_graph = parse_java_source_code_directory(source_directory)\n",
    "\n",
    "# for testing purpose\n",
    "# var_dump(\"call_graph\", call_graph)\n",
    "\n",
    "# Create a sequence dictionary combining *handlers - (Contains methods and its UI Trigger Name) and call graphs - (Contains Method Declaration and the subsequent mthodname within along with branching and loops) \n",
    "sequence = {}\n",
    "for key, value in handlers.items():\n",
    "    for source_file, methods in call_graph.items():\n",
    "        if value in methods:\n",
    "            sequence[key] = {value: methods[value]}\n",
    "\n",
    "# Print the new dictionary\n",
    "var_dump(\"sequence\", sequence)"
   ]
  },
  {
   "cell_type": "code",
   "execution_count": null,
   "id": "909d7776-f789-46b5-8ec9-033ec68f3fc2",
   "metadata": {},
   "outputs": [],
   "source": []
  }
 ],
 "metadata": {
  "kernelspec": {
   "display_name": "Python 3 (ipykernel)",
   "language": "python",
   "name": "python3"
  },
  "language_info": {
   "codemirror_mode": {
    "name": "ipython",
    "version": 3
   },
   "file_extension": ".py",
   "mimetype": "text/x-python",
   "name": "python",
   "nbconvert_exporter": "python",
   "pygments_lexer": "ipython3",
   "version": "3.11.7"
  }
 },
 "nbformat": 4,
 "nbformat_minor": 5
}
