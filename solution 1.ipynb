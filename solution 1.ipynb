{
 "cells": [
  {
   "cell_type": "markdown",
   "id": "c62de305-55d9-4497-afaf-3ec4ae05d521",
   "metadata": {},
   "source": [
    "* Logical Steps to find all possible function call sequences triggered by a user event in Android apps *\n",
    "\n",
    "Step 1. \n",
    "Parsing the Android Manifest File: Identifying all activities and their entry points.\n",
    "\n",
    "Step 2. \n",
    "Parsing the UI Layout Files: Extracting all UI elements and their associated event handlers.\n",
    "\n",
    "Step 3. \n",
    "Parsing the Java Source Code Files: Identifying all the method declaration and the subsequent method calls within\n",
    "                                       \n",
    "Step 4. \n",
    "Building a Call Graph: Building the Call Sequences analyzing the above set of results from (Step 1) manifest, (Step 2) layout and (Step 3) source code.\n",
    "\n",
    "Pre-requisites:\n",
    "1. Need Javalang module (third party mdoule) to parse Java Soruce code file in Step 3. "
   ]
  },
  {
   "cell_type": "markdown",
   "id": "66e0a2f8-2098-46bf-b1f5-9f6e26d80722",
   "metadata": {},
   "source": [
    "Step 1: Parsing the Android Manifest File:"
   ]
  },
  {
   "cell_type": "code",
   "execution_count": 15,
   "id": "2719375d-1d4b-4d0d-8dfc-de612bac56ad",
   "metadata": {},
   "outputs": [
    {
     "name": "stdout",
     "output_type": "stream",
     "text": [
      "['.SettingsActivity', '.MainActivity']\n"
     ]
    }
   ],
   "source": [
    "import os                              # Reading/writing files (We will be reading Manifest File, Layout file and Java File\n",
    "import xml.etree.ElementTree as ET     # Parsing XML file as we will be dealing with manifest file and layout file\n",
    "from pprint import pprint              # Prettiyfying the output instead of standard print()\n",
    "\n",
    "# Path of the directory. Here I have used three main paths: Manifest Directory (XML File), Layouts Directory (XML files) and Source Directory (.Java files)\n",
    "manifest_directory = \"final/app/src/main/\"                          \n",
    "layouts_directory = \"final/app/src/main/res/layout/\"\n",
    "source_directory = \"final/app/src/main/java/com/example/afinal/\"\n",
    "\n",
    "#Parses the Android Manifest File to identify all 'activites'      \n",
    "def parse_manifest_directory(manifest_directory):\n",
    "\n",
    "    # Searches only manifest files (xml) and stores manifest_files\n",
    "    manifest_files = [os.path.join(manifest_directory, f) for f in os.listdir(manifest_directory) if f.endswith('.xml')]  \n",
    "    \n",
    "    activities = []                        # Empty list to hold the name of Activites found in Manifest file                     \n",
    "    \n",
    "    for manifest_file in manifest_files:   # Iternates over each file\n",
    "        tree = ET.parse(manifest_file)     # Parse the XML files and return ElementTree object\n",
    "        root = tree.getroot()              # Get the root elment of the prased SML tree. <manifest> element is generally the root element\n",
    "        for activity in root.findall(\".//activity\"):  # finall() looks for the 'activity' elements in the tree. We are looking for activity\n",
    "            activity_name = activity.get(\"{http://schemas.android.com/apk/res/android}name\") # Get the name of the activity (namespace is used here for retrieving name) \n",
    "            activities.append(activity_name) \n",
    "    return activities\n",
    "\n",
    "activities = parse_manifest_directory(manifest_directory)\n",
    "\n",
    "# I am using pprint to prettify (more readable) the output instead of plain print() \n",
    "pprint(activities) "
   ]
  },
  {
   "cell_type": "markdown",
   "id": "39d3a71c-40c3-44f1-b434-2c814fcec1c4",
   "metadata": {},
   "source": [
    "Step 2: Parsing the UI Layout Files and extracts information about any 'onClick' evetns. Nore: For this test purpose, I have only used 'onClick' UI event, it can be extended to handle other events as well. "
   ]
  },
  {
   "cell_type": "code",
   "execution_count": 17,
   "id": "c57057b4-05ce-4fe4-b982-521637983dba",
   "metadata": {},
   "outputs": [
    {
     "name": "stdout",
     "output_type": "stream",
     "text": [
      "{'@+id/btnDisplayText': 'handleText',\n",
      " '@+id/btnSettings': 'launchSettings',\n",
      " '@+id/button': 'goBack'}\n"
     ]
    }
   ],
   "source": [
    "def parse_layouts_directory(layouts_directory):\n",
    "\n",
    "    # same as above just like searching for Manifest file. But here we will most probably come across multiple layouts files (xml Files)\n",
    "    layout_files = [os.path.join(layouts_directory, f) for f in os.listdir(layouts_directory) if f.endswith('.xml')]\n",
    "    \n",
    "    # have used dictionary, since I need to store information in key-value pair. [Key] being the IDs and [Value] being the name of the handler/method\n",
    "    handlers = {}  \n",
    "    \n",
    "    for layout_file in layout_files:\n",
    "        \n",
    "        tree = ET.parse(layout_file)\n",
    "        root = tree.getroot()\n",
    "       \n",
    "        for element in root.iter():  # iterates over all elements in the XML tre\n",
    "            onClick = element.get(\"{http://schemas.android.com/apk/res/android}onClick\") # retrieves the value of the attribute android:onClick attribute\n",
    "            if onClick:\n",
    "                element_id = element.get(\"{http://schemas.android.com/apk/res/android}id\", 'unknown') # retrieve the value of the attribute ID of android:onClick attribute, if not assign it to 'unknown'\n",
    "                handlers[element_id] = onClick # add the id of attribute and value of onClick in Key-Value pair in dictionary\n",
    "    return handlers\n",
    "\n",
    "handlers = parse_layouts_directory(layouts_directory)\n",
    "\n",
    "#Display the result\n",
    "pprint(handlers)"
   ]
  },
  {
   "cell_type": "markdown",
   "id": "d43e9327-e3bf-46ac-9c47-3b0fe0091446",
   "metadata": {},
   "source": [
    "Step 3: Parse the Source Code: Java Files"
   ]
  },
  {
   "cell_type": "code",
   "execution_count": 19,
   "id": "3a44de0b-cf45-47ce-8374-d35611c2eea7",
   "metadata": {},
   "outputs": [
    {
     "name": "stdout",
     "output_type": "stream",
     "text": [
      "{'goBack': ['startActivity'],\n",
      " 'handleText': ['findViewById',\n",
      "                'getText',\n",
      "                'toString',\n",
      "                'findViewById',\n",
      "                'makeText',\n",
      "                'show'],\n",
      " 'launchSettings': ['findViewById', 'putExtra', 'startActivity'],\n",
      " 'onCreate': ['enable',\n",
      "              'setContentView',\n",
      "              'setOnApplyWindowInsetsListener',\n",
      "              'findViewById',\n",
      "              'getInsets',\n",
      "              'systemBars',\n",
      "              'setPadding',\n",
      "              'enable',\n",
      "              'setContentView',\n",
      "              'setOnApplyWindowInsetsListener',\n",
      "              'findViewById',\n",
      "              'getInsets',\n",
      "              'systemBars',\n",
      "              'setPadding',\n",
      "              'getIntent',\n",
      "              'getStringExtra',\n",
      "              'findViewById']}\n"
     ]
    }
   ],
   "source": [
    "# Thank god! this module saved me. I was trying to do with so many other modules (javaparser-python) but javalang did the trick\n",
    "# Since we are dealing with Java file here, javalang module does the heavy work of parsing java \n",
    "import javalang \n",
    "\n",
    "def parse_java_source_code_directory(source_directory):\n",
    "    \n",
    "    call_graph = {}    ## A container to store method names and their possible call sequeces of methods within\n",
    "    source_files = [os.path.join(source_directory, f) for f in os.listdir(source_directory) if f.endswith('.java')] # look for files ending with .java\n",
    "    \n",
    "    for source_file in source_files:\n",
    "        \n",
    "        with open(source_file, \"r\") as source:                        # Opens each file in read mode\n",
    "            tree = javalang.parse.parse(source.read())                # IMPORTANT: Parses the content of the java file and returns an Abstract Syntax Tree (AST)\n",
    "            for path, node in tree:\n",
    "                \n",
    "                if isinstance(node, javalang.tree.MethodDeclaration): # Check if the node is a method \n",
    "                    method_name = node.name                           # retrieves the name of method\n",
    "                    if method_name not in call_graph:\n",
    "                        call_graph[method_name] = []                  # set the key of earlier intialized call_graph as the method name (let just say, entry method name)\n",
    "                    method_calls = []                                 # an empty list to store method calls within the current method.\n",
    "                    for _, child_node in node:                        #  iterates over all child nodes of the current method node\n",
    "                        if isinstance(child_node, javalang.tree.MethodInvocation): # checks if the child node is a method invocation.\n",
    "                            method_calls.append(child_node.member)                 # add the method name\n",
    "                    call_graph[method_name].extend(method_calls)                   # adds them to the call graph under the current method name.\n",
    "    return call_graph\n",
    "\n",
    "call_graph = parse_java_source_code_directory(source_directory)\n",
    "\n",
    "#print(\"Call Graph:\", call_graph)\n",
    "pprint(call_graph)"
   ]
  },
  {
   "cell_type": "markdown",
   "id": "4e345139-cb65-4cd9-a1b8-1bf8b89745d3",
   "metadata": {},
   "source": [
    "Step 4: (THE MOST IMPORTANT STEP) Integrate and Build the Call Graph: OR might as well say Building the Call Sequences analyzing the above set of results from manifest, layout and source code."
   ]
  },
  {
   "cell_type": "code",
   "execution_count": 21,
   "id": "02460a94-10bd-49c5-96d8-48d5fcbb2c67",
   "metadata": {},
   "outputs": [
    {
     "name": "stdout",
     "output_type": "stream",
     "text": [
      "{'@+id/btnDisplayText': ['handleText',\n",
      "                         'findViewById',\n",
      "                         'handleText',\n",
      "                         'getText',\n",
      "                         'handleText',\n",
      "                         'toString',\n",
      "                         'handleText',\n",
      "                         'findViewById',\n",
      "                         'handleText',\n",
      "                         'makeText',\n",
      "                         'handleText',\n",
      "                         'show'],\n",
      " '@+id/btnSettings': ['launchSettings',\n",
      "                      'findViewById',\n",
      "                      'launchSettings',\n",
      "                      'putExtra',\n",
      "                      'launchSettings',\n",
      "                      'startActivity'],\n",
      " '@+id/button': ['goBack', 'startActivity']}\n"
     ]
    }
   ],
   "source": [
    "# The following two functions are used to build and analyze call sequences based on a set of UI event handlers and a call graph of method invocation.\n",
    "\n",
    "# @param: handlers from Step 2 : Contain the information of UI element's IDs and their event handler methods\n",
    "# @param: call_graph from Step 3: Contain the information of Method Declaration and Method Invocation\n",
    "def build_call_sequences(handlers, call_graph):\n",
    "    \n",
    "    sequences = {} # container to store the call sequences for each UI element.                              \n",
    "    for ui_element, handler in handlers.items():\n",
    "        sequences[ui_element] = explore_calls(handler, call_graph, [])\n",
    "    return sequences\n",
    "\n",
    "# @pram: func = Name of method\n",
    "# @param: call_graph = info on method declaration and method invocation\n",
    "# @param: A list representing the current path of method calls\n",
    "def explore_calls(func, call_graph, path):\n",
    "\n",
    "    if func not in call_graph: # if the given method is not in call_graph, which means it does not call any subsequent methods\n",
    "        return path + [func]\n",
    "    paths = []                 # if the given method is in call_graph, it initializes an empty list paths \"to store all possible call sequences starting from the current method\"\n",
    "    for called_func in call_graph[func]: # iterates over each method that the current method calls\n",
    "        paths.extend(explore_calls(called_func, call_graph, path + [func])) # extends the current path with the current method.\n",
    "    return paths\n",
    "\n",
    "# Build and print call sequences\n",
    "sequences = build_call_sequences(handlers, call_graph)\n",
    "\n",
    "#print(\"Call Sequences:\", sequences)\n",
    "pprint(sequences)"
   ]
  },
  {
   "cell_type": "code",
   "execution_count": null,
   "id": "4201b095-53cb-4d87-b57c-21571c38321f",
   "metadata": {},
   "outputs": [],
   "source": []
  }
 ],
 "metadata": {
  "kernelspec": {
   "display_name": "Python 3 (ipykernel)",
   "language": "python",
   "name": "python3"
  },
  "language_info": {
   "codemirror_mode": {
    "name": "ipython",
    "version": 3
   },
   "file_extension": ".py",
   "mimetype": "text/x-python",
   "name": "python",
   "nbconvert_exporter": "python",
   "pygments_lexer": "ipython3",
   "version": "3.11.7"
  }
 },
 "nbformat": 4,
 "nbformat_minor": 5
}
